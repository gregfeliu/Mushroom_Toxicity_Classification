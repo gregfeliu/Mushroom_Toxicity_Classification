{
 "cells": [
  {
   "cell_type": "markdown",
   "metadata": {},
   "source": [
    "# Mushroom Classification Project"
   ]
  },
  {
   "cell_type": "markdown",
   "metadata": {},
   "source": [
    "## Notes"
   ]
  },
  {
   "cell_type": "markdown",
   "metadata": {},
   "source": [
    "Link to the dataset: https://www.kaggle.com/uciml/mushroom-classification\n",
    "- Mushroom toxicity links: https://www.thenakedscientists.com/articles/interviews/why-are-mushrooms-poisonous\n",
    "    -  There's a huge number of mushroom toxins that all act in very, very different ways that aren't even related to each other.\n",
    "    - https://www.wildfooduk.com/articles/how-to-tell-the-difference-between-poisonous-and-edible-mushrooms/\n",
    "    - some rules: \"Avoid mushrooms with white gills, a skirt or ring on the stem and a bulbous or sack like base called a volva\" and \"Avoid mushrooms with red on the cap or stem\"\n",
    "- The two types of mushrooms that are included in this dataset\n",
    "    - Agaricus: https://en.wikipedia.org/wiki/Agaricus\n",
    "    - Lepoita: https://en.wikipedia.org/wiki/Lepiota"
   ]
  },
  {
   "cell_type": "markdown",
   "metadata": {},
   "source": [
    "### Imports"
   ]
  },
  {
   "cell_type": "code",
   "execution_count": 1,
   "metadata": {
    "ExecuteTime": {
     "end_time": "2020-09-08T23:10:37.257411Z",
     "start_time": "2020-09-08T23:10:36.337238Z"
    }
   },
   "outputs": [],
   "source": [
    "import pandas as pd\n",
    "from scipy.stats import chi2_contingency, chi2\n",
    "import numpy as np\n",
    "import matplotlib.pyplot as plt\n",
    "%matplotlib inline\n",
    "import xgboost as xgb\n",
    "from xgboost import plot_importance\n",
    "pd.set_option('display.max_columns', 300)\n",
    "pd.set_option('display.max_rows', 300)\n",
    "from sklearn.linear_model import LogisticRegression\n",
    "from sklearn.ensemble import RandomForestClassifier\n",
    "from sklearn.metrics import f1_score, roc_auc_score, precision_score, recall_score\n",
    "from sklearn.model_selection import GridSearchCV, train_test_split\n",
    "from functions import *"
   ]
  },
  {
   "cell_type": "code",
   "execution_count": 2,
   "metadata": {
    "ExecuteTime": {
     "end_time": "2020-09-08T23:10:37.292841Z",
     "start_time": "2020-09-08T23:10:37.260370Z"
    }
   },
   "outputs": [],
   "source": [
    "df = pd.read_csv(\"mushrooms.csv\")"
   ]
  },
  {
   "cell_type": "markdown",
   "metadata": {},
   "source": [
    "### Removing unwanted columns\n",
    "This is done to make the project slightly more challenging and more intuitive to a layman using this model and easier to take measurements"
   ]
  },
  {
   "cell_type": "code",
   "execution_count": 3,
   "metadata": {
    "ExecuteTime": {
     "end_time": "2020-09-08T23:10:37.301226Z",
     "start_time": "2020-09-08T23:10:37.295157Z"
    }
   },
   "outputs": [],
   "source": [
    "unwanted_columns = ['spore-print-color', 'stalk-surface-above-ring', 'stalk-surface-below-ring','stalk-shape', \n",
    "                    'stalk-root', \"gill-size\", 'odor',\"gill-attachment\"] \n",
    "df.drop(columns = unwanted_columns, inplace=True)"
   ]
  },
  {
   "cell_type": "markdown",
   "metadata": {},
   "source": [
    "# EDA"
   ]
  },
  {
   "cell_type": "markdown",
   "metadata": {},
   "source": [
    "### Class imbalance for target variable?"
   ]
  },
  {
   "cell_type": "code",
   "execution_count": 4,
   "metadata": {
    "ExecuteTime": {
     "end_time": "2020-09-08T23:10:37.308055Z",
     "start_time": "2020-09-08T23:10:37.303110Z"
    }
   },
   "outputs": [
    {
     "data": {
      "text/plain": [
       "Index(['class', 'cap-shape', 'cap-surface', 'cap-color', 'bruises',\n",
       "       'gill-spacing', 'gill-color', 'stalk-color-above-ring',\n",
       "       'stalk-color-below-ring', 'veil-type', 'veil-color', 'ring-number',\n",
       "       'ring-type', 'population', 'habitat'],\n",
       "      dtype='object')"
      ]
     },
     "execution_count": 4,
     "metadata": {},
     "output_type": "execute_result"
    }
   ],
   "source": [
    "df.columns"
   ]
  },
  {
   "cell_type": "code",
   "execution_count": 5,
   "metadata": {
    "ExecuteTime": {
     "end_time": "2020-09-08T23:10:37.319291Z",
     "start_time": "2020-09-08T23:10:37.312167Z"
    }
   },
   "outputs": [
    {
     "data": {
      "text/plain": [
       "e    4208\n",
       "p    3916\n",
       "Name: class, dtype: int64"
      ]
     },
     "execution_count": 5,
     "metadata": {},
     "output_type": "execute_result"
    }
   ],
   "source": [
    "# no large class imbalance\n",
    "df['class'].value_counts()"
   ]
  },
  {
   "cell_type": "markdown",
   "metadata": {},
   "source": [
    "### What values are in each column?"
   ]
  },
  {
   "cell_type": "code",
   "execution_count": 6,
   "metadata": {
    "ExecuteTime": {
     "end_time": "2020-09-08T23:10:37.332884Z",
     "start_time": "2020-09-08T23:10:37.322641Z"
    }
   },
   "outputs": [],
   "source": [
    "col_unique_dict = {}\n",
    "for item in df.columns:\n",
    "    col_unique_dict[item] = list(df[item].unique())"
   ]
  },
  {
   "cell_type": "code",
   "execution_count": 7,
   "metadata": {
    "ExecuteTime": {
     "end_time": "2020-09-08T23:10:37.339674Z",
     "start_time": "2020-09-08T23:10:37.335071Z"
    }
   },
   "outputs": [
    {
     "data": {
      "text/plain": [
       "{'class': ['p', 'e'],\n",
       " 'cap-shape': ['x', 'b', 's', 'f', 'k', 'c'],\n",
       " 'cap-surface': ['s', 'y', 'f', 'g'],\n",
       " 'cap-color': ['n', 'y', 'w', 'g', 'e', 'p', 'b', 'u', 'c', 'r'],\n",
       " 'bruises': ['t', 'f'],\n",
       " 'gill-spacing': ['c', 'w'],\n",
       " 'gill-color': ['k', 'n', 'g', 'p', 'w', 'h', 'u', 'e', 'b', 'r', 'y', 'o'],\n",
       " 'stalk-color-above-ring': ['w', 'g', 'p', 'n', 'b', 'e', 'o', 'c', 'y'],\n",
       " 'stalk-color-below-ring': ['w', 'p', 'g', 'b', 'n', 'e', 'y', 'o', 'c'],\n",
       " 'veil-type': ['p'],\n",
       " 'veil-color': ['w', 'n', 'o', 'y'],\n",
       " 'ring-number': ['o', 't', 'n'],\n",
       " 'ring-type': ['p', 'e', 'l', 'f', 'n'],\n",
       " 'population': ['s', 'n', 'a', 'v', 'y', 'c'],\n",
       " 'habitat': ['u', 'g', 'm', 'd', 'p', 'w', 'l']}"
      ]
     },
     "execution_count": 7,
     "metadata": {},
     "output_type": "execute_result"
    }
   ],
   "source": [
    "# most columns refer to colors (e.g.: veil color has \"white\", \"none\", \"orange\", \"yellow\")\n",
    "col_unique_dict"
   ]
  },
  {
   "cell_type": "code",
   "execution_count": 8,
   "metadata": {
    "ExecuteTime": {
     "end_time": "2020-09-08T23:10:37.346463Z",
     "start_time": "2020-09-08T23:10:37.341553Z"
    }
   },
   "outputs": [
    {
     "data": {
      "text/plain": [
       "1"
      ]
     },
     "execution_count": 8,
     "metadata": {},
     "output_type": "execute_result"
    }
   ],
   "source": [
    "df['veil-type'].nunique()"
   ]
  },
  {
   "cell_type": "markdown",
   "metadata": {},
   "source": [
    "#### Dropping veil_type"
   ]
  },
  {
   "cell_type": "code",
   "execution_count": 9,
   "metadata": {
    "ExecuteTime": {
     "end_time": "2020-09-08T23:10:37.352406Z",
     "start_time": "2020-09-08T23:10:37.348207Z"
    }
   },
   "outputs": [],
   "source": [
    "df.drop(columns = ['veil-type'], inplace = True)"
   ]
  },
  {
   "cell_type": "markdown",
   "metadata": {},
   "source": [
    "### Broad categories of columns"
   ]
  },
  {
   "cell_type": "markdown",
   "metadata": {},
   "source": [
    "- The broad categories of the remaining columns are:\n",
    "    - spore\n",
    "    - cap \n",
    "    - stalk\n",
    "    - gills \n",
    "    - veil \n",
    "    - ring"
   ]
  },
  {
   "cell_type": "markdown",
   "metadata": {},
   "source": [
    "### Checking how many nans there are in the dataset"
   ]
  },
  {
   "cell_type": "code",
   "execution_count": 10,
   "metadata": {
    "ExecuteTime": {
     "end_time": "2020-09-08T23:10:37.365795Z",
     "start_time": "2020-09-08T23:10:37.354011Z"
    }
   },
   "outputs": [],
   "source": [
    "nan_count_list = []\n",
    "for item in df.columns:\n",
    "    nan_count = df[item].isnull().sum()\n",
    "    nan_count_list.append(f\"{item} has {nan_count} nan values\")"
   ]
  },
  {
   "cell_type": "code",
   "execution_count": 11,
   "metadata": {
    "ExecuteTime": {
     "end_time": "2020-09-08T23:10:37.371152Z",
     "start_time": "2020-09-08T23:10:37.367958Z"
    }
   },
   "outputs": [
    {
     "data": {
      "text/plain": [
       "['class has 0 nan values',\n",
       " 'cap-shape has 0 nan values',\n",
       " 'cap-surface has 0 nan values',\n",
       " 'cap-color has 0 nan values',\n",
       " 'bruises has 0 nan values',\n",
       " 'gill-spacing has 0 nan values',\n",
       " 'gill-color has 0 nan values',\n",
       " 'stalk-color-above-ring has 0 nan values',\n",
       " 'stalk-color-below-ring has 0 nan values',\n",
       " 'veil-color has 0 nan values',\n",
       " 'ring-number has 0 nan values',\n",
       " 'ring-type has 0 nan values',\n",
       " 'population has 0 nan values',\n",
       " 'habitat has 0 nan values']"
      ]
     },
     "execution_count": 11,
     "metadata": {},
     "output_type": "execute_result"
    }
   ],
   "source": [
    "# no nans left in the dataset \n",
    "nan_count_list"
   ]
  },
  {
   "cell_type": "markdown",
   "metadata": {},
   "source": [
    "### Datatypes and describing data"
   ]
  },
  {
   "cell_type": "code",
   "execution_count": 12,
   "metadata": {
    "ExecuteTime": {
     "end_time": "2020-09-08T23:10:37.378193Z",
     "start_time": "2020-09-08T23:10:37.372839Z"
    }
   },
   "outputs": [
    {
     "data": {
      "text/plain": [
       "class                     object\n",
       "cap-shape                 object\n",
       "cap-surface               object\n",
       "cap-color                 object\n",
       "bruises                   object\n",
       "gill-spacing              object\n",
       "gill-color                object\n",
       "stalk-color-above-ring    object\n",
       "stalk-color-below-ring    object\n",
       "veil-color                object\n",
       "ring-number               object\n",
       "ring-type                 object\n",
       "population                object\n",
       "habitat                   object\n",
       "dtype: object"
      ]
     },
     "execution_count": 12,
     "metadata": {},
     "output_type": "execute_result"
    }
   ],
   "source": [
    "df.dtypes"
   ]
  },
  {
   "cell_type": "code",
   "execution_count": 13,
   "metadata": {
    "ExecuteTime": {
     "end_time": "2020-09-08T23:10:37.443782Z",
     "start_time": "2020-09-08T23:10:37.380035Z"
    }
   },
   "outputs": [
    {
     "data": {
      "text/html": [
       "<div>\n",
       "<style scoped>\n",
       "    .dataframe tbody tr th:only-of-type {\n",
       "        vertical-align: middle;\n",
       "    }\n",
       "\n",
       "    .dataframe tbody tr th {\n",
       "        vertical-align: top;\n",
       "    }\n",
       "\n",
       "    .dataframe thead th {\n",
       "        text-align: right;\n",
       "    }\n",
       "</style>\n",
       "<table border=\"1\" class=\"dataframe\">\n",
       "  <thead>\n",
       "    <tr style=\"text-align: right;\">\n",
       "      <th></th>\n",
       "      <th>class</th>\n",
       "      <th>cap-shape</th>\n",
       "      <th>cap-surface</th>\n",
       "      <th>cap-color</th>\n",
       "      <th>bruises</th>\n",
       "      <th>gill-spacing</th>\n",
       "      <th>gill-color</th>\n",
       "      <th>stalk-color-above-ring</th>\n",
       "      <th>stalk-color-below-ring</th>\n",
       "      <th>veil-color</th>\n",
       "      <th>ring-number</th>\n",
       "      <th>ring-type</th>\n",
       "      <th>population</th>\n",
       "      <th>habitat</th>\n",
       "    </tr>\n",
       "  </thead>\n",
       "  <tbody>\n",
       "    <tr>\n",
       "      <th>count</th>\n",
       "      <td>8124</td>\n",
       "      <td>8124</td>\n",
       "      <td>8124</td>\n",
       "      <td>8124</td>\n",
       "      <td>8124</td>\n",
       "      <td>8124</td>\n",
       "      <td>8124</td>\n",
       "      <td>8124</td>\n",
       "      <td>8124</td>\n",
       "      <td>8124</td>\n",
       "      <td>8124</td>\n",
       "      <td>8124</td>\n",
       "      <td>8124</td>\n",
       "      <td>8124</td>\n",
       "    </tr>\n",
       "    <tr>\n",
       "      <th>unique</th>\n",
       "      <td>2</td>\n",
       "      <td>6</td>\n",
       "      <td>4</td>\n",
       "      <td>10</td>\n",
       "      <td>2</td>\n",
       "      <td>2</td>\n",
       "      <td>12</td>\n",
       "      <td>9</td>\n",
       "      <td>9</td>\n",
       "      <td>4</td>\n",
       "      <td>3</td>\n",
       "      <td>5</td>\n",
       "      <td>6</td>\n",
       "      <td>7</td>\n",
       "    </tr>\n",
       "    <tr>\n",
       "      <th>top</th>\n",
       "      <td>e</td>\n",
       "      <td>x</td>\n",
       "      <td>y</td>\n",
       "      <td>n</td>\n",
       "      <td>f</td>\n",
       "      <td>c</td>\n",
       "      <td>b</td>\n",
       "      <td>w</td>\n",
       "      <td>w</td>\n",
       "      <td>w</td>\n",
       "      <td>o</td>\n",
       "      <td>p</td>\n",
       "      <td>v</td>\n",
       "      <td>d</td>\n",
       "    </tr>\n",
       "    <tr>\n",
       "      <th>freq</th>\n",
       "      <td>4208</td>\n",
       "      <td>3656</td>\n",
       "      <td>3244</td>\n",
       "      <td>2284</td>\n",
       "      <td>4748</td>\n",
       "      <td>6812</td>\n",
       "      <td>1728</td>\n",
       "      <td>4464</td>\n",
       "      <td>4384</td>\n",
       "      <td>7924</td>\n",
       "      <td>7488</td>\n",
       "      <td>3968</td>\n",
       "      <td>4040</td>\n",
       "      <td>3148</td>\n",
       "    </tr>\n",
       "  </tbody>\n",
       "</table>\n",
       "</div>"
      ],
      "text/plain": [
       "       class cap-shape cap-surface cap-color bruises gill-spacing gill-color  \\\n",
       "count   8124      8124        8124      8124    8124         8124       8124   \n",
       "unique     2         6           4        10       2            2         12   \n",
       "top        e         x           y         n       f            c          b   \n",
       "freq    4208      3656        3244      2284    4748         6812       1728   \n",
       "\n",
       "       stalk-color-above-ring stalk-color-below-ring veil-color ring-number  \\\n",
       "count                    8124                   8124       8124        8124   \n",
       "unique                      9                      9          4           3   \n",
       "top                         w                      w          w           o   \n",
       "freq                     4464                   4384       7924        7488   \n",
       "\n",
       "       ring-type population habitat  \n",
       "count       8124       8124    8124  \n",
       "unique         5          6       7  \n",
       "top            p          v       d  \n",
       "freq        3968       4040    3148  "
      ]
     },
     "execution_count": 13,
     "metadata": {},
     "output_type": "execute_result"
    }
   ],
   "source": [
    "df.describe()"
   ]
  },
  {
   "cell_type": "markdown",
   "metadata": {},
   "source": [
    "### Examining Features"
   ]
  },
  {
   "cell_type": "markdown",
   "metadata": {},
   "source": [
    "#### Visualizing the features"
   ]
  },
  {
   "cell_type": "markdown",
   "metadata": {},
   "source": [
    "##### Stacked bar charts"
   ]
  },
  {
   "cell_type": "code",
   "execution_count": 14,
   "metadata": {
    "ExecuteTime": {
     "end_time": "2020-09-08T23:10:39.657268Z",
     "start_time": "2020-09-08T23:10:37.445512Z"
    },
    "code_folding": [],
    "scrolled": true
   },
   "outputs": [
    {
     "data": {
      "image/png": "[encoded data removed]",
      "text/plain": [
       "<Figure size 432x288 with 1 Axes>"
      ]
     },
     "metadata": {
      "needs_background": "light"
     },
     "output_type": "display_data"
    },
    {
     "data": {
      "image/png": "[encoded data removed]",
      "text/plain": [
       "<Figure size 432x288 with 1 Axes>"
      ]
     },
     "metadata": {
      "needs_background": "light"
     },
     "output_type": "display_data"
    },
    {
     "data": {
      "image/png": "[encoded data removed]",
      "text/plain": [
       "<Figure size 432x288 with 1 Axes>"
      ]
     },
     "metadata": {
      "needs_background": "light"
     },
     "output_type": "display_data"
    },
    {
     "data": {
      "image/png": "[encoded data removed]",
      "text/plain": [
       "<Figure size 432x288 with 1 Axes>"
      ]
     },
     "metadata": {
      "needs_background": "light"
     },
     "output_type": "display_data"
    },
    {
     "data": {
      "image/png": "[encoded data removed]",
      "text/plain": [
       "<Figure size 432x288 with 1 Axes>"
      ]
     },
     "metadata": {
      "needs_background": "light"
     },
     "output_type": "display_data"
    },
    {
     "data": {
      "image/png": "[encoded data removed]",
      "text/plain": [
       "<Figure size 432x288 with 1 Axes>"
      ]
     },
     "metadata": {
      "needs_background": "light"
     },
     "output_type": "display_data"
    },
    {
     "data": {
      "image/png": "[encoded data removed]",
      "text/plain": [
       "<Figure size 432x288 with 1 Axes>"
      ]
     },
     "metadata": {
      "needs_background": "light"
     },
     "output_type": "display_data"
    },
    {
     "data": {
      "image/png": "[encoded data removed]",
      "text/plain": [
       "<Figure size 432x288 with 1 Axes>"
      ]
     },
     "metadata": {
      "needs_background": "light"
     },
     "output_type": "display_data"
    },
    {
     "data": {
      "image/png": "[encoded data removed]",
      "text/plain": [
       "<Figure size 432x288 with 1 Axes>"
      ]
     },
     "metadata": {
      "needs_background": "light"
     },
     "output_type": "display_data"
    },
    {
     "data": {
      "image/png": "[encoded data removed]",
      "text/plain": [
       "<Figure size 432x288 with 1 Axes>"
      ]
     },
     "metadata": {
      "needs_background": "light"
     },
     "output_type": "display_data"
    },
    {
     "data": {
      "image/png": "[encoded data removed]",
      "text/plain": [
       "<Figure size 432x288 with 1 Axes>"
      ]
     },
     "metadata": {
      "needs_background": "light"
     },
     "output_type": "display_data"
    },
    {
     "data": {
      "image/png": "[encoded data removed]",
      "text/plain": [
       "<Figure size 432x288 with 1 Axes>"
      ]
     },
     "metadata": {
      "needs_background": "light"
     },
     "output_type": "display_data"
    },
    {
     "data": {
      "image/png": "[encoded data removed]",
      "text/plain": [
       "<Figure size 432x288 with 1 Axes>"
      ]
     },
     "metadata": {
      "needs_background": "light"
     },
     "output_type": "display_data"
    },
    {
     "data": {
      "image/png": "[encoded data removed]",
      "text/plain": [
       "<Figure size 432x288 with 1 Axes>"
      ]
     },
     "metadata": {
      "needs_background": "light"
     },
     "output_type": "display_data"
    }
   ],
   "source": [
    "for item in df.columns:\n",
    "    pd.crosstab(index = df['class'], columns = df[item], normalize = True).plot(kind='bar', stacked=True)\n",
    "    plt.show()"
   ]
  },
  {
   "cell_type": "markdown",
   "metadata": {},
   "source": [
    "### Train / Test / Split "
   ]
  },
  {
   "cell_type": "markdown",
   "metadata": {},
   "source": [
    "#### Split with dummies for each"
   ]
  },
  {
   "cell_type": "code",
   "execution_count": 15,
   "metadata": {
    "ExecuteTime": {
     "end_time": "2020-09-08T23:10:39.692330Z",
     "start_time": "2020-09-08T23:10:39.660379Z"
    }
   },
   "outputs": [],
   "source": [
    "dummy_df = pd.get_dummies(data=df, drop_first = True)"
   ]
  },
  {
   "cell_type": "code",
   "execution_count": 16,
   "metadata": {
    "ExecuteTime": {
     "end_time": "2020-09-08T23:10:39.700171Z",
     "start_time": "2020-09-08T23:10:39.694482Z"
    }
   },
   "outputs": [],
   "source": [
    "X_dum = dummy_df.drop('class_p', axis = 1)\n",
    "y_dum = dummy_df['class_p']"
   ]
  },
  {
   "cell_type": "code",
   "execution_count": 17,
   "metadata": {
    "ExecuteTime": {
     "end_time": "2020-09-08T23:10:39.707682Z",
     "start_time": "2020-09-08T23:10:39.701804Z"
    }
   },
   "outputs": [],
   "source": [
    "X_dum_train, X_dum_test, y_dum_train, y_dum_test = train_test_split(X_dum, y_dum, random_state=1)"
   ]
  },
  {
   "cell_type": "markdown",
   "metadata": {},
   "source": [
    "#### Using Chi-Squared Test to Find predictive value of feature values "
   ]
  },
  {
   "cell_type": "code",
   "execution_count": 18,
   "metadata": {
    "ExecuteTime": {
     "end_time": "2020-09-08T23:10:40.390773Z",
     "start_time": "2020-09-08T23:10:39.709490Z"
    },
    "scrolled": false
   },
   "outputs": [],
   "source": [
    "all_column_chi = get_chi_values(y_dum_train, X_dum_train)\n",
    "independent_cols = [key for key, values in all_column_chi.items() if values[1] == 'Independent (fail to reject H0)']\n",
    "dependent_cols = [key for key, values in all_column_chi.items() if values[1] == 'Dependent (reject H0)']"
   ]
  },
  {
   "cell_type": "code",
   "execution_count": 19,
   "metadata": {
    "ExecuteTime": {
     "end_time": "2020-09-08T23:10:40.395413Z",
     "start_time": "2020-09-08T23:10:40.392709Z"
    },
    "scrolled": true
   },
   "outputs": [
    {
     "name": "stdout",
     "output_type": "stream",
     "text": [
      "The number of feature values that are dependent is 63\n",
      "The number of feature values that are independent is 3\n"
     ]
    }
   ],
   "source": [
    "# most columns are dependent of the classes edible or poisnous, meaning that they will improve predictions\n",
    "print(f\"The number of feature values that are dependent is {len(dependent_cols)}\")\n",
    "print(f\"The number of feature values that are independent is {len(independent_cols)}\")"
   ]
  },
  {
   "cell_type": "markdown",
   "metadata": {},
   "source": [
    "# Model Selection"
   ]
  },
  {
   "cell_type": "markdown",
   "metadata": {},
   "source": [
    "### Logistic Regression"
   ]
  },
  {
   "cell_type": "markdown",
   "metadata": {},
   "source": [
    "#### Viewing ROC plot for all of the best features "
   ]
  },
  {
   "cell_type": "code",
   "execution_count": 25,
   "metadata": {
    "ExecuteTime": {
     "end_time": "2020-09-08T22:36:42.926132Z",
     "start_time": "2020-09-08T22:36:42.916527Z"
    }
   },
   "outputs": [],
   "source": [
    "def only_best_features2(dummy_df = dummy_df):\n",
    "    X_dum = dummy_df.drop('class_p', axis = 1)\n",
    "    y_dum = dummy_df['class_p']\n",
    "    X_dum_train, X_dum_test, y_dum_train, y_dum_test = train_test_split(X_dum, y_dum, random_state=1)\n",
    "    logreg = LogisticRegression(max_iter=100, random_state = 5, verbose = 0, penalty='l1', solver = 'saga')\n",
    "    for i in range(0, len(X_dum_train.columns)):\n",
    "        column = X_dum_train.columns[i]\n",
    "        logreg.fit(X_dum_train[[column]], y_dum_train)\n",
    "        dum_predict_log = logreg.predict(X_dum_test[[column]])\n",
    "        fpr, tpr, thresholds = metrics.roc_curve(y_dum_test, dum_predict_log)\n",
    "        plt.plot(fpr, tpr, label= f\"{column}\")\n",
    "        plt.xlim([0.0, 1.0])\n",
    "        plt.ylim([0.0, 1.0])\n",
    "        plt.title('ROC curve for Mushrooms Classification')\n",
    "        plt.xlabel('False Positive Rate (1 - Specificity)')\n",
    "        plt.ylabel('True Positive Rate (Sensitivity)')\n",
    "#         plt.legend()\n",
    "        plt.grid(True)"
   ]
  },
  {
   "cell_type": "code",
   "execution_count": 20,
   "metadata": {
    "ExecuteTime": {
     "end_time": "2020-09-08T23:11:03.054450Z",
     "start_time": "2020-09-08T23:11:02.174077Z"
    }
   },
   "outputs": [
    {
     "name": "stderr",
     "output_type": "stream",
     "text": [
      "/Users/gregfeliu/opt/anaconda3/envs/learn-env/lib/python3.6/site-packages/sklearn/linear_model/logistic.py:432: FutureWarning: Default solver will be changed to 'lbfgs' in 0.22. Specify a solver to silence this warning.\n",
      "  FutureWarning)\n",
      "/Users/gregfeliu/opt/anaconda3/envs/learn-env/lib/python3.6/site-packages/sklearn/linear_model/logistic.py:432: FutureWarning: Default solver will be changed to 'lbfgs' in 0.22. Specify a solver to silence this warning.\n",
      "  FutureWarning)\n",
      "/Users/gregfeliu/opt/anaconda3/envs/learn-env/lib/python3.6/site-packages/sklearn/linear_model/logistic.py:432: FutureWarning: Default solver will be changed to 'lbfgs' in 0.22. Specify a solver to silence this warning.\n",
      "  FutureWarning)\n",
      "/Users/gregfeliu/opt/anaconda3/envs/learn-env/lib/python3.6/site-packages/sklearn/linear_model/logistic.py:432: FutureWarning: Default solver will be changed to 'lbfgs' in 0.22. Specify a solver to silence this warning.\n",
      "  FutureWarning)\n",
      "/Users/gregfeliu/opt/anaconda3/envs/learn-env/lib/python3.6/site-packages/sklearn/linear_model/logistic.py:432: FutureWarning: Default solver will be changed to 'lbfgs' in 0.22. Specify a solver to silence this warning.\n",
      "  FutureWarning)\n",
      "/Users/gregfeliu/opt/anaconda3/envs/learn-env/lib/python3.6/site-packages/sklearn/linear_model/logistic.py:432: FutureWarning: Default solver will be changed to 'lbfgs' in 0.22. Specify a solver to silence this warning.\n",
      "  FutureWarning)\n",
      "/Users/gregfeliu/opt/anaconda3/envs/learn-env/lib/python3.6/site-packages/sklearn/linear_model/logistic.py:432: FutureWarning: Default solver will be changed to 'lbfgs' in 0.22. Specify a solver to silence this warning.\n",
      "  FutureWarning)\n",
      "/Users/gregfeliu/opt/anaconda3/envs/learn-env/lib/python3.6/site-packages/sklearn/linear_model/logistic.py:432: FutureWarning: Default solver will be changed to 'lbfgs' in 0.22. Specify a solver to silence this warning.\n",
      "  FutureWarning)\n",
      "/Users/gregfeliu/opt/anaconda3/envs/learn-env/lib/python3.6/site-packages/sklearn/linear_model/logistic.py:432: FutureWarning: Default solver will be changed to 'lbfgs' in 0.22. Specify a solver to silence this warning.\n",
      "  FutureWarning)\n",
      "/Users/gregfeliu/opt/anaconda3/envs/learn-env/lib/python3.6/site-packages/sklearn/linear_model/logistic.py:432: FutureWarning: Default solver will be changed to 'lbfgs' in 0.22. Specify a solver to silence this warning.\n",
      "  FutureWarning)\n",
      "/Users/gregfeliu/opt/anaconda3/envs/learn-env/lib/python3.6/site-packages/sklearn/linear_model/logistic.py:432: FutureWarning: Default solver will be changed to 'lbfgs' in 0.22. Specify a solver to silence this warning.\n",
      "  FutureWarning)\n",
      "/Users/gregfeliu/opt/anaconda3/envs/learn-env/lib/python3.6/site-packages/sklearn/linear_model/logistic.py:432: FutureWarning: Default solver will be changed to 'lbfgs' in 0.22. Specify a solver to silence this warning.\n",
      "  FutureWarning)\n",
      "/Users/gregfeliu/opt/anaconda3/envs/learn-env/lib/python3.6/site-packages/sklearn/linear_model/logistic.py:432: FutureWarning: Default solver will be changed to 'lbfgs' in 0.22. Specify a solver to silence this warning.\n",
      "  FutureWarning)\n",
      "/Users/gregfeliu/opt/anaconda3/envs/learn-env/lib/python3.6/site-packages/sklearn/linear_model/logistic.py:432: FutureWarning: Default solver will be changed to 'lbfgs' in 0.22. Specify a solver to silence this warning.\n",
      "  FutureWarning)\n",
      "/Users/gregfeliu/opt/anaconda3/envs/learn-env/lib/python3.6/site-packages/sklearn/linear_model/logistic.py:432: FutureWarning: Default solver will be changed to 'lbfgs' in 0.22. Specify a solver to silence this warning.\n",
      "  FutureWarning)\n",
      "/Users/gregfeliu/opt/anaconda3/envs/learn-env/lib/python3.6/site-packages/sklearn/linear_model/logistic.py:432: FutureWarning: Default solver will be changed to 'lbfgs' in 0.22. Specify a solver to silence this warning.\n",
      "  FutureWarning)\n",
      "/Users/gregfeliu/opt/anaconda3/envs/learn-env/lib/python3.6/site-packages/sklearn/linear_model/logistic.py:432: FutureWarning: Default solver will be changed to 'lbfgs' in 0.22. Specify a solver to silence this warning.\n",
      "  FutureWarning)\n",
      "/Users/gregfeliu/opt/anaconda3/envs/learn-env/lib/python3.6/site-packages/sklearn/linear_model/logistic.py:432: FutureWarning: Default solver will be changed to 'lbfgs' in 0.22. Specify a solver to silence this warning.\n",
      "  FutureWarning)\n",
      "/Users/gregfeliu/opt/anaconda3/envs/learn-env/lib/python3.6/site-packages/sklearn/linear_model/logistic.py:432: FutureWarning: Default solver will be changed to 'lbfgs' in 0.22. Specify a solver to silence this warning.\n",
      "  FutureWarning)\n",
      "/Users/gregfeliu/opt/anaconda3/envs/learn-env/lib/python3.6/site-packages/sklearn/linear_model/logistic.py:432: FutureWarning: Default solver will be changed to 'lbfgs' in 0.22. Specify a solver to silence this warning.\n",
      "  FutureWarning)\n",
      "/Users/gregfeliu/opt/anaconda3/envs/learn-env/lib/python3.6/site-packages/sklearn/linear_model/logistic.py:432: FutureWarning: Default solver will be changed to 'lbfgs' in 0.22. Specify a solver to silence this warning.\n",
      "  FutureWarning)\n",
      "/Users/gregfeliu/opt/anaconda3/envs/learn-env/lib/python3.6/site-packages/sklearn/linear_model/logistic.py:432: FutureWarning: Default solver will be changed to 'lbfgs' in 0.22. Specify a solver to silence this warning.\n",
      "  FutureWarning)\n",
      "/Users/gregfeliu/opt/anaconda3/envs/learn-env/lib/python3.6/site-packages/sklearn/linear_model/logistic.py:432: FutureWarning: Default solver will be changed to 'lbfgs' in 0.22. Specify a solver to silence this warning.\n",
      "  FutureWarning)\n",
      "/Users/gregfeliu/opt/anaconda3/envs/learn-env/lib/python3.6/site-packages/sklearn/linear_model/logistic.py:432: FutureWarning: Default solver will be changed to 'lbfgs' in 0.22. Specify a solver to silence this warning.\n",
      "  FutureWarning)\n",
      "/Users/gregfeliu/opt/anaconda3/envs/learn-env/lib/python3.6/site-packages/sklearn/linear_model/logistic.py:432: FutureWarning: Default solver will be changed to 'lbfgs' in 0.22. Specify a solver to silence this warning.\n",
      "  FutureWarning)\n",
      "/Users/gregfeliu/opt/anaconda3/envs/learn-env/lib/python3.6/site-packages/sklearn/linear_model/logistic.py:432: FutureWarning: Default solver will be changed to 'lbfgs' in 0.22. Specify a solver to silence this warning.\n",
      "  FutureWarning)\n",
      "/Users/gregfeliu/opt/anaconda3/envs/learn-env/lib/python3.6/site-packages/sklearn/linear_model/logistic.py:432: FutureWarning: Default solver will be changed to 'lbfgs' in 0.22. Specify a solver to silence this warning.\n",
      "  FutureWarning)\n",
      "/Users/gregfeliu/opt/anaconda3/envs/learn-env/lib/python3.6/site-packages/sklearn/linear_model/logistic.py:432: FutureWarning: Default solver will be changed to 'lbfgs' in 0.22. Specify a solver to silence this warning.\n",
      "  FutureWarning)\n",
      "/Users/gregfeliu/opt/anaconda3/envs/learn-env/lib/python3.6/site-packages/sklearn/linear_model/logistic.py:432: FutureWarning: Default solver will be changed to 'lbfgs' in 0.22. Specify a solver to silence this warning.\n",
      "  FutureWarning)\n",
      "/Users/gregfeliu/opt/anaconda3/envs/learn-env/lib/python3.6/site-packages/sklearn/linear_model/logistic.py:432: FutureWarning: Default solver will be changed to 'lbfgs' in 0.22. Specify a solver to silence this warning.\n",
      "  FutureWarning)\n",
      "/Users/gregfeliu/opt/anaconda3/envs/learn-env/lib/python3.6/site-packages/sklearn/linear_model/logistic.py:432: FutureWarning: Default solver will be changed to 'lbfgs' in 0.22. Specify a solver to silence this warning.\n",
      "  FutureWarning)\n",
      "/Users/gregfeliu/opt/anaconda3/envs/learn-env/lib/python3.6/site-packages/sklearn/linear_model/logistic.py:432: FutureWarning: Default solver will be changed to 'lbfgs' in 0.22. Specify a solver to silence this warning.\n",
      "  FutureWarning)\n",
      "/Users/gregfeliu/opt/anaconda3/envs/learn-env/lib/python3.6/site-packages/sklearn/linear_model/logistic.py:432: FutureWarning: Default solver will be changed to 'lbfgs' in 0.22. Specify a solver to silence this warning.\n",
      "  FutureWarning)\n",
      "/Users/gregfeliu/opt/anaconda3/envs/learn-env/lib/python3.6/site-packages/sklearn/linear_model/logistic.py:432: FutureWarning: Default solver will be changed to 'lbfgs' in 0.22. Specify a solver to silence this warning.\n",
      "  FutureWarning)\n",
      "/Users/gregfeliu/opt/anaconda3/envs/learn-env/lib/python3.6/site-packages/sklearn/linear_model/logistic.py:432: FutureWarning: Default solver will be changed to 'lbfgs' in 0.22. Specify a solver to silence this warning.\n",
      "  FutureWarning)\n",
      "/Users/gregfeliu/opt/anaconda3/envs/learn-env/lib/python3.6/site-packages/sklearn/linear_model/logistic.py:432: FutureWarning: Default solver will be changed to 'lbfgs' in 0.22. Specify a solver to silence this warning.\n",
      "  FutureWarning)\n",
      "/Users/gregfeliu/opt/anaconda3/envs/learn-env/lib/python3.6/site-packages/sklearn/linear_model/logistic.py:432: FutureWarning: Default solver will be changed to 'lbfgs' in 0.22. Specify a solver to silence this warning.\n",
      "  FutureWarning)\n",
      "/Users/gregfeliu/opt/anaconda3/envs/learn-env/lib/python3.6/site-packages/sklearn/linear_model/logistic.py:432: FutureWarning: Default solver will be changed to 'lbfgs' in 0.22. Specify a solver to silence this warning.\n",
      "  FutureWarning)\n",
      "/Users/gregfeliu/opt/anaconda3/envs/learn-env/lib/python3.6/site-packages/sklearn/linear_model/logistic.py:432: FutureWarning: Default solver will be changed to 'lbfgs' in 0.22. Specify a solver to silence this warning.\n",
      "  FutureWarning)\n",
      "/Users/gregfeliu/opt/anaconda3/envs/learn-env/lib/python3.6/site-packages/sklearn/linear_model/logistic.py:432: FutureWarning: Default solver will be changed to 'lbfgs' in 0.22. Specify a solver to silence this warning.\n",
      "  FutureWarning)\n",
      "/Users/gregfeliu/opt/anaconda3/envs/learn-env/lib/python3.6/site-packages/sklearn/linear_model/logistic.py:432: FutureWarning: Default solver will be changed to 'lbfgs' in 0.22. Specify a solver to silence this warning.\n",
      "  FutureWarning)\n",
      "/Users/gregfeliu/opt/anaconda3/envs/learn-env/lib/python3.6/site-packages/sklearn/linear_model/logistic.py:432: FutureWarning: Default solver will be changed to 'lbfgs' in 0.22. Specify a solver to silence this warning.\n",
      "  FutureWarning)\n",
      "/Users/gregfeliu/opt/anaconda3/envs/learn-env/lib/python3.6/site-packages/sklearn/linear_model/logistic.py:432: FutureWarning: Default solver will be changed to 'lbfgs' in 0.22. Specify a solver to silence this warning.\n",
      "  FutureWarning)\n",
      "/Users/gregfeliu/opt/anaconda3/envs/learn-env/lib/python3.6/site-packages/sklearn/linear_model/logistic.py:432: FutureWarning: Default solver will be changed to 'lbfgs' in 0.22. Specify a solver to silence this warning.\n",
      "  FutureWarning)\n",
      "/Users/gregfeliu/opt/anaconda3/envs/learn-env/lib/python3.6/site-packages/sklearn/linear_model/logistic.py:432: FutureWarning: Default solver will be changed to 'lbfgs' in 0.22. Specify a solver to silence this warning.\n",
      "  FutureWarning)\n",
      "/Users/gregfeliu/opt/anaconda3/envs/learn-env/lib/python3.6/site-packages/sklearn/linear_model/logistic.py:432: FutureWarning: Default solver will be changed to 'lbfgs' in 0.22. Specify a solver to silence this warning.\n",
      "  FutureWarning)\n",
      "/Users/gregfeliu/opt/anaconda3/envs/learn-env/lib/python3.6/site-packages/sklearn/linear_model/logistic.py:432: FutureWarning: Default solver will be changed to 'lbfgs' in 0.22. Specify a solver to silence this warning.\n",
      "  FutureWarning)\n",
      "/Users/gregfeliu/opt/anaconda3/envs/learn-env/lib/python3.6/site-packages/sklearn/linear_model/logistic.py:432: FutureWarning: Default solver will be changed to 'lbfgs' in 0.22. Specify a solver to silence this warning.\n",
      "  FutureWarning)\n"
     ]
    },
    {
     "name": "stderr",
     "output_type": "stream",
     "text": [
      "/Users/gregfeliu/opt/anaconda3/envs/learn-env/lib/python3.6/site-packages/sklearn/linear_model/logistic.py:432: FutureWarning: Default solver will be changed to 'lbfgs' in 0.22. Specify a solver to silence this warning.\n",
      "  FutureWarning)\n",
      "/Users/gregfeliu/opt/anaconda3/envs/learn-env/lib/python3.6/site-packages/sklearn/linear_model/logistic.py:432: FutureWarning: Default solver will be changed to 'lbfgs' in 0.22. Specify a solver to silence this warning.\n",
      "  FutureWarning)\n",
      "/Users/gregfeliu/opt/anaconda3/envs/learn-env/lib/python3.6/site-packages/sklearn/linear_model/logistic.py:432: FutureWarning: Default solver will be changed to 'lbfgs' in 0.22. Specify a solver to silence this warning.\n",
      "  FutureWarning)\n",
      "/Users/gregfeliu/opt/anaconda3/envs/learn-env/lib/python3.6/site-packages/sklearn/linear_model/logistic.py:432: FutureWarning: Default solver will be changed to 'lbfgs' in 0.22. Specify a solver to silence this warning.\n",
      "  FutureWarning)\n",
      "/Users/gregfeliu/opt/anaconda3/envs/learn-env/lib/python3.6/site-packages/sklearn/linear_model/logistic.py:432: FutureWarning: Default solver will be changed to 'lbfgs' in 0.22. Specify a solver to silence this warning.\n",
      "  FutureWarning)\n",
      "/Users/gregfeliu/opt/anaconda3/envs/learn-env/lib/python3.6/site-packages/sklearn/linear_model/logistic.py:432: FutureWarning: Default solver will be changed to 'lbfgs' in 0.22. Specify a solver to silence this warning.\n",
      "  FutureWarning)\n",
      "/Users/gregfeliu/opt/anaconda3/envs/learn-env/lib/python3.6/site-packages/sklearn/linear_model/logistic.py:432: FutureWarning: Default solver will be changed to 'lbfgs' in 0.22. Specify a solver to silence this warning.\n",
      "  FutureWarning)\n",
      "/Users/gregfeliu/opt/anaconda3/envs/learn-env/lib/python3.6/site-packages/sklearn/linear_model/logistic.py:432: FutureWarning: Default solver will be changed to 'lbfgs' in 0.22. Specify a solver to silence this warning.\n",
      "  FutureWarning)\n",
      "/Users/gregfeliu/opt/anaconda3/envs/learn-env/lib/python3.6/site-packages/sklearn/linear_model/logistic.py:432: FutureWarning: Default solver will be changed to 'lbfgs' in 0.22. Specify a solver to silence this warning.\n",
      "  FutureWarning)\n",
      "/Users/gregfeliu/opt/anaconda3/envs/learn-env/lib/python3.6/site-packages/sklearn/linear_model/logistic.py:432: FutureWarning: Default solver will be changed to 'lbfgs' in 0.22. Specify a solver to silence this warning.\n",
      "  FutureWarning)\n",
      "/Users/gregfeliu/opt/anaconda3/envs/learn-env/lib/python3.6/site-packages/sklearn/linear_model/logistic.py:432: FutureWarning: Default solver will be changed to 'lbfgs' in 0.22. Specify a solver to silence this warning.\n",
      "  FutureWarning)\n",
      "/Users/gregfeliu/opt/anaconda3/envs/learn-env/lib/python3.6/site-packages/sklearn/linear_model/logistic.py:432: FutureWarning: Default solver will be changed to 'lbfgs' in 0.22. Specify a solver to silence this warning.\n",
      "  FutureWarning)\n",
      "/Users/gregfeliu/opt/anaconda3/envs/learn-env/lib/python3.6/site-packages/sklearn/linear_model/logistic.py:432: FutureWarning: Default solver will be changed to 'lbfgs' in 0.22. Specify a solver to silence this warning.\n",
      "  FutureWarning)\n",
      "/Users/gregfeliu/opt/anaconda3/envs/learn-env/lib/python3.6/site-packages/sklearn/linear_model/logistic.py:432: FutureWarning: Default solver will be changed to 'lbfgs' in 0.22. Specify a solver to silence this warning.\n",
      "  FutureWarning)\n",
      "/Users/gregfeliu/opt/anaconda3/envs/learn-env/lib/python3.6/site-packages/sklearn/linear_model/logistic.py:432: FutureWarning: Default solver will be changed to 'lbfgs' in 0.22. Specify a solver to silence this warning.\n",
      "  FutureWarning)\n",
      "/Users/gregfeliu/opt/anaconda3/envs/learn-env/lib/python3.6/site-packages/sklearn/linear_model/logistic.py:432: FutureWarning: Default solver will be changed to 'lbfgs' in 0.22. Specify a solver to silence this warning.\n",
      "  FutureWarning)\n",
      "/Users/gregfeliu/opt/anaconda3/envs/learn-env/lib/python3.6/site-packages/sklearn/linear_model/logistic.py:432: FutureWarning: Default solver will be changed to 'lbfgs' in 0.22. Specify a solver to silence this warning.\n",
      "  FutureWarning)\n",
      "/Users/gregfeliu/opt/anaconda3/envs/learn-env/lib/python3.6/site-packages/sklearn/linear_model/logistic.py:432: FutureWarning: Default solver will be changed to 'lbfgs' in 0.22. Specify a solver to silence this warning.\n",
      "  FutureWarning)\n"
     ]
    },
    {
     "data": {
      "image/png": "[encoded data removed]",
      "text/plain": [
       "<Figure size 432x288 with 1 Axes>"
      ]
     },
     "metadata": {
      "needs_background": "light"
     },
     "output_type": "display_data"
    }
   ],
   "source": [
    "num_of_improving_features = only_improving_features(X_dum, y_dum)"
   ]
  },
  {
   "cell_type": "code",
   "execution_count": 21,
   "metadata": {
    "ExecuteTime": {
     "end_time": "2020-09-08T23:11:04.212853Z",
     "start_time": "2020-09-08T23:11:04.209379Z"
    }
   },
   "outputs": [
    {
     "name": "stdout",
     "output_type": "stream",
     "text": [
      "The total number of (dummy) features is: 66\n",
      "The number of (dummy) features that improve logistic regression predictability is: 43\n",
      "23 features do not improve logistic regression predictability\n"
     ]
    }
   ],
   "source": [
    "print(f\"The total number of (dummy) features is: {X_dum_train.shape[1]}\")\n",
    "print(f\"The number of (dummy) features that improve logistic regression predictability is: \\\n",
    "{num_of_improving_features}\")      \n",
    "print(f\"{X_dum_train.shape[1] - num_of_improving_features} features do not improve logistic \\\n",
    "regression predictability\")"
   ]
  },
  {
   "cell_type": "markdown",
   "metadata": {},
   "source": [
    "#### Viewing ROC plot for the all features "
   ]
  },
  {
   "cell_type": "code",
   "execution_count": 58,
   "metadata": {
    "ExecuteTime": {
     "end_time": "2020-09-08T23:15:04.011294Z",
     "start_time": "2020-09-08T23:15:03.733880Z"
    }
   },
   "outputs": [],
   "source": [
    "#use l2 penalty b/c that works better when there arent any outliers\n",
    "logreg = LogisticRegression(C=10, max_iter=50, random_state = 5, penalty='l1', solver='liblinear')\n",
    "logreg.fit(X_dum_train, y_dum_train)\n",
    "log_reg_predictions = logreg.predict(X_dum_test)"
   ]
  },
  {
   "cell_type": "code",
   "execution_count": 59,
   "metadata": {
    "ExecuteTime": {
     "end_time": "2020-09-08T23:15:05.831853Z",
     "start_time": "2020-09-08T23:15:05.823399Z"
    }
   },
   "outputs": [
    {
     "name": "stdout",
     "output_type": "stream",
     "text": [
      "[[1000   20]\n",
      " [  16  995]]\n"
     ]
    }
   ],
   "source": [
    "cm = metrics.confusion_matrix(y_dum_test, log_reg_predictions)\n",
    "print(cm)"
   ]
  },
  {
   "cell_type": "code",
   "execution_count": 148,
   "metadata": {
    "ExecuteTime": {
     "end_time": "2020-09-08T23:53:44.573182Z",
     "start_time": "2020-09-08T23:53:44.565749Z"
    }
   },
   "outputs": [
    {
     "name": "stdout",
     "output_type": "stream",
     "text": [
      "0.9841740850642928\n"
     ]
    }
   ],
   "source": [
    "logreg_recall = recall_score(y_dum_test, log_reg_predictions)\n",
    "print(logreg_recall)"
   ]
  },
  {
   "cell_type": "code",
   "execution_count": 63,
   "metadata": {
    "ExecuteTime": {
     "end_time": "2020-09-08T23:15:42.186829Z",
     "start_time": "2020-09-08T23:15:42.027593Z"
    }
   },
   "outputs": [
    {
     "data": {
      "image/png": "[encoded data removed]",
      "text/plain": [
       "<Figure size 432x288 with 1 Axes>"
      ]
     },
     "metadata": {
      "needs_background": "light"
     },
     "output_type": "display_data"
    }
   ],
   "source": [
    "print_roc_curve(y_dum_test, dum_predict_logreg)"
   ]
  },
  {
   "cell_type": "markdown",
   "metadata": {},
   "source": [
    "### XGBoost"
   ]
  },
  {
   "cell_type": "markdown",
   "metadata": {},
   "source": [
    "#### GridSearch1"
   ]
  },
  {
   "cell_type": "code",
   "execution_count": 69,
   "metadata": {
    "ExecuteTime": {
     "end_time": "2020-09-08T23:31:52.898696Z",
     "start_time": "2020-09-08T23:31:52.893106Z"
    }
   },
   "outputs": [],
   "source": [
    "# starting with wide parameter distribution\n",
    "xgb_classifier = xgb.XGBClassifier(objective = 'binary:logistic')\n",
    "param_dist = {'n_estimators': list(range(0, 400, 50)),\n",
    "              'learning_rate': [0.21, 0.31, 0.41, 0.51, 0.61],\n",
    "              'max_depth': [3],\n",
    "              'colsample_bytree': [0.1, 0.2, 0.3, 0.4, 0.5, 0.6, 0.7],\n",
    "              'min_child_weight': [1]\n",
    "             }"
   ]
  },
  {
   "cell_type": "code",
   "execution_count": 70,
   "metadata": {
    "ExecuteTime": {
     "end_time": "2020-09-08T23:31:58.081297Z",
     "start_time": "2020-09-08T23:31:58.076926Z"
    }
   },
   "outputs": [],
   "source": [
    "#initiate the Gridsearch model\n",
    "gsearch1 = GridSearchCV(\n",
    "    estimator = xgb_classifier,\n",
    "    param_grid = param_dist, \n",
    "    scoring='recall',\n",
    "    n_jobs=-1,\n",
    "    verbose=0,\n",
    "    iid=False, \n",
    "    cv=3)"
   ]
  },
  {
   "cell_type": "code",
   "execution_count": 71,
   "metadata": {
    "ExecuteTime": {
     "end_time": "2020-09-08T23:37:02.277085Z",
     "start_time": "2020-09-08T23:31:59.319991Z"
    }
   },
   "outputs": [],
   "source": [
    "xgb_model1 = gsearch1.fit(X_dum_train,y_dum_train)"
   ]
  },
  {
   "cell_type": "code",
   "execution_count": 72,
   "metadata": {
    "ExecuteTime": {
     "end_time": "2020-09-08T23:39:58.797071Z",
     "start_time": "2020-09-08T23:39:58.790222Z"
    }
   },
   "outputs": [
    {
     "data": {
      "text/plain": [
       "{'colsample_bytree': 0.3,\n",
       " 'learning_rate': 0.41,\n",
       " 'max_depth': 3,\n",
       " 'min_child_weight': 1,\n",
       " 'n_estimators': 100}"
      ]
     },
     "execution_count": 72,
     "metadata": {},
     "output_type": "execute_result"
    }
   ],
   "source": [
    "gsearch1.best_params_"
   ]
  },
  {
   "cell_type": "code",
   "execution_count": 73,
   "metadata": {
    "ExecuteTime": {
     "end_time": "2020-09-08T23:40:00.920909Z",
     "start_time": "2020-09-08T23:40:00.915523Z"
    }
   },
   "outputs": [
    {
     "data": {
      "text/plain": [
       "0.9948371983272067"
      ]
     },
     "execution_count": 73,
     "metadata": {},
     "output_type": "execute_result"
    }
   ],
   "source": [
    "gsearch1.best_score_"
   ]
  },
  {
   "cell_type": "markdown",
   "metadata": {},
   "source": [
    "#### GridSearch2"
   ]
  },
  {
   "cell_type": "markdown",
   "metadata": {},
   "source": [
    "- The best parameters from the first gridsearch\n",
    "    - {'colsample_bytree': 0.3,\n",
    " 'learning_rate': 0.41,\n",
    " 'max_depth': 3,\n",
    " 'min_child_weight': 1,\n",
    " 'n_estimators': 100}"
   ]
  },
  {
   "cell_type": "code",
   "execution_count": 74,
   "metadata": {
    "ExecuteTime": {
     "end_time": "2020-09-08T23:40:41.196144Z",
     "start_time": "2020-09-08T23:40:41.190695Z"
    }
   },
   "outputs": [],
   "source": [
    "# narrower parameter distribution\n",
    "xgb_classifier2 = xgb.XGBClassifier(objective = 'binary:logistic')\n",
    "param_dist2 = {'n_estimators': [75, 100, 125],\n",
    "              'learning_rate': [0.39, 0.41, 0.43],\n",
    "              'max_depth': [3],\n",
    "              'colsample_bytree': [0.25, 0.3, 0.35],\n",
    "              'min_child_weight': [1]\n",
    "             }"
   ]
  },
  {
   "cell_type": "code",
   "execution_count": 75,
   "metadata": {
    "ExecuteTime": {
     "end_time": "2020-09-08T23:40:45.461349Z",
     "start_time": "2020-09-08T23:40:45.457022Z"
    }
   },
   "outputs": [],
   "source": [
    "gsearch2 = GridSearchCV(\n",
    "    estimator = xgb_classifier2,\n",
    "    param_grid = param_dist2, \n",
    "    scoring='recall',\n",
    "    n_jobs=-1,\n",
    "    verbose=0,\n",
    "    iid=True, \n",
    "    cv=3)"
   ]
  },
  {
   "cell_type": "code",
   "execution_count": 76,
   "metadata": {
    "ExecuteTime": {
     "end_time": "2020-09-08T23:41:01.935346Z",
     "start_time": "2020-09-08T23:40:46.736426Z"
    }
   },
   "outputs": [],
   "source": [
    "xgb_model2 = gsearch2.fit(X_dum_train,y_dum_train)"
   ]
  },
  {
   "cell_type": "code",
   "execution_count": 77,
   "metadata": {
    "ExecuteTime": {
     "end_time": "2020-09-08T23:41:05.730230Z",
     "start_time": "2020-09-08T23:41:05.726558Z"
    }
   },
   "outputs": [
    {
     "data": {
      "text/plain": [
       "{'colsample_bytree': 0.3,\n",
       " 'learning_rate': 0.41,\n",
       " 'max_depth': 3,\n",
       " 'min_child_weight': 1,\n",
       " 'n_estimators': 100}"
      ]
     },
     "execution_count": 77,
     "metadata": {},
     "output_type": "execute_result"
    }
   ],
   "source": [
    "gsearch2.best_params_"
   ]
  },
  {
   "cell_type": "code",
   "execution_count": 78,
   "metadata": {
    "ExecuteTime": {
     "end_time": "2020-09-08T23:41:07.028943Z",
     "start_time": "2020-09-08T23:41:07.025322Z"
    }
   },
   "outputs": [
    {
     "data": {
      "text/plain": [
       "0.9948366909070848"
      ]
     },
     "execution_count": 78,
     "metadata": {},
     "output_type": "execute_result"
    }
   ],
   "source": [
    "gsearch2.best_score_"
   ]
  },
  {
   "cell_type": "markdown",
   "metadata": {},
   "source": [
    "#### Fitting xgb model "
   ]
  },
  {
   "cell_type": "code",
   "execution_count": 102,
   "metadata": {
    "ExecuteTime": {
     "end_time": "2020-09-08T23:44:57.330694Z",
     "start_time": "2020-09-08T23:44:57.326666Z"
    }
   },
   "outputs": [],
   "source": [
    "xgb_clf_final = xgb.XGBClassifier(objective ='binary:logistic', \n",
    "                           colsample_bytree = 0.4, \n",
    "                           learning_rate = 0.51,\n",
    "                           max_depth = 4, \n",
    "                           n_estimators = 200)"
   ]
  },
  {
   "cell_type": "code",
   "execution_count": 103,
   "metadata": {
    "ExecuteTime": {
     "end_time": "2020-09-08T23:45:01.108142Z",
     "start_time": "2020-09-08T23:44:58.640578Z"
    }
   },
   "outputs": [],
   "source": [
    "xgb_clf_final_fit = xgb_clf_final.fit(X_dum_train,y_dum_train)"
   ]
  },
  {
   "cell_type": "code",
   "execution_count": 104,
   "metadata": {
    "ExecuteTime": {
     "end_time": "2020-09-08T23:45:02.401644Z",
     "start_time": "2020-09-08T23:45:02.379916Z"
    }
   },
   "outputs": [
    {
     "data": {
      "text/plain": [
       "0.9970326409495549"
      ]
     },
     "execution_count": 104,
     "metadata": {},
     "output_type": "execute_result"
    }
   ],
   "source": [
    "xgb_clf_final_predictions = xgb_clf_final_fit.predict(X_dum_test)\n",
    "xgb_clf_final_precision = precision_score(y_dum_test, xgb_clf_final_predictions)\n",
    "xgb_clf_final_recall = recall_score(y_dum_test, xgb_clf_final_predictions)\n",
    "xgb_clf_final_recall"
   ]
  },
  {
   "cell_type": "code",
   "execution_count": 105,
   "metadata": {
    "ExecuteTime": {
     "end_time": "2020-09-08T23:45:04.657274Z",
     "start_time": "2020-09-08T23:45:04.650119Z"
    }
   },
   "outputs": [
    {
     "name": "stdout",
     "output_type": "stream",
     "text": [
      "[[1013    7]\n",
      " [   3 1008]]\n"
     ]
    }
   ],
   "source": [
    "xgb_cm = metrics.confusion_matrix(y_dum_test, xgb_clf_final_predictions)\n",
    "print(xgb_cm)"
   ]
  },
  {
   "cell_type": "markdown",
   "metadata": {},
   "source": [
    "##### Plotting Feature Importance"
   ]
  },
  {
   "cell_type": "code",
   "execution_count": 107,
   "metadata": {
    "ExecuteTime": {
     "end_time": "2020-09-08T23:45:11.012468Z",
     "start_time": "2020-09-08T23:45:10.779623Z"
    }
   },
   "outputs": [
    {
     "data": {
      "text/plain": [
       "<matplotlib.axes._subplots.AxesSubplot at 0x7f9366b15518>"
      ]
     },
     "execution_count": 107,
     "metadata": {},
     "output_type": "execute_result"
    },
    {
     "data": {
      "image/png": "[encoded data removed]",
      "text/plain": [
       "<Figure size 432x288 with 1 Axes>"
      ]
     },
     "metadata": {
      "needs_background": "light"
     },
     "output_type": "display_data"
    }
   ],
   "source": [
    "plot_importance(xgb_clf_final_fit, max_num_features=15, importance_type = 'gain', show_values=False)\n",
    "# plt.savefig(\"XGBoost_feature_importance.png\", optimize = True, pad_inches = 0.2, bbox_inches = 'tight')"
   ]
  },
  {
   "cell_type": "code",
   "execution_count": 113,
   "metadata": {
    "ExecuteTime": {
     "end_time": "2020-09-08T23:45:59.235096Z",
     "start_time": "2020-09-08T23:45:59.220050Z"
    }
   },
   "outputs": [],
   "source": [
    "xgb_col_importances = xgb_clf_final.get_booster().get_score(importance_type = 'gain')"
   ]
  },
  {
   "cell_type": "code",
   "execution_count": 115,
   "metadata": {
    "ExecuteTime": {
     "end_time": "2020-09-08T23:46:09.147569Z",
     "start_time": "2020-09-08T23:46:09.140510Z"
    }
   },
   "outputs": [
    {
     "data": {
      "text/plain": [
       "[('stalk-color-above-ring_g', 177.16729857500002),\n",
       " ('stalk-color-above-ring_w', 59.908161794729985),\n",
       " ('stalk-color-above-ring_o', 59.065714568249994),\n",
       " ('ring-type_n', 46.18153),\n",
       " ('stalk-color-below-ring_o', 43.3846436)]"
      ]
     },
     "execution_count": 115,
     "metadata": {},
     "output_type": "execute_result"
    }
   ],
   "source": [
    "xgb_sorted_by_column_importance = sorted(xgb_col_importances.items(), key=lambda x: x[1], reverse=True)\n",
    "xgb_sorted_by_column_importance[0:5]"
   ]
  },
  {
   "cell_type": "markdown",
   "metadata": {},
   "source": [
    "### Random Forest Classifier"
   ]
  },
  {
   "cell_type": "code",
   "execution_count": 116,
   "metadata": {
    "ExecuteTime": {
     "end_time": "2020-09-08T23:46:54.028665Z",
     "start_time": "2020-09-08T23:46:31.463263Z"
    }
   },
   "outputs": [],
   "source": [
    "rf = RandomForestClassifier(n_estimators = 10000, random_state = 42)\n",
    "rf_fitted = rf.fit(X_dum_train, y_dum_train)\n",
    "rf_pred = rf_fitted.predict(X_dum_test)"
   ]
  },
  {
   "cell_type": "code",
   "execution_count": 149,
   "metadata": {
    "ExecuteTime": {
     "end_time": "2020-09-08T23:54:52.107251Z",
     "start_time": "2020-09-08T23:54:52.099999Z"
    }
   },
   "outputs": [
    {
     "name": "stdout",
     "output_type": "stream",
     "text": [
      "0.9970326409495549\n"
     ]
    }
   ],
   "source": [
    "rf_recall = recall_score(y_dum_test, rf_pred)\n",
    "print(rf_recall)"
   ]
  },
  {
   "cell_type": "code",
   "execution_count": 118,
   "metadata": {
    "ExecuteTime": {
     "end_time": "2020-09-08T23:47:06.308471Z",
     "start_time": "2020-09-08T23:47:06.300205Z"
    }
   },
   "outputs": [
    {
     "name": "stdout",
     "output_type": "stream",
     "text": [
      "[[1013    7]\n",
      " [   3 1008]]\n"
     ]
    }
   ],
   "source": [
    "random_forest_cm = metrics.confusion_matrix(y_dum_test, rf_pred)\n",
    "print(random_forest_cm)"
   ]
  },
  {
   "cell_type": "markdown",
   "metadata": {},
   "source": [
    "# Model Evaluation"
   ]
  },
  {
   "cell_type": "markdown",
   "metadata": {},
   "source": [
    "The important measure in this project is recall since we want to absolutely sure that the mushroom predicted to be edible is in fact edible"
   ]
  },
  {
   "cell_type": "markdown",
   "metadata": {},
   "source": [
    "## Model Scores "
   ]
  },
  {
   "cell_type": "code",
   "execution_count": 150,
   "metadata": {
    "ExecuteTime": {
     "end_time": "2020-09-08T23:54:56.058394Z",
     "start_time": "2020-09-08T23:54:56.053556Z"
    }
   },
   "outputs": [
    {
     "name": "stdout",
     "output_type": "stream",
     "text": [
      "The best Logistic Regression recall score is: 0.9841740850642928\n",
      "The best XGBoost recall score is: 0.9970326409495549\n",
      "The best Random Forest recall score is: 0.9970326409495549\n"
     ]
    }
   ],
   "source": [
    "print(f\"The best Logistic Regression recall score is: {logreg_recall}\")\n",
    "print(f\"The best XGBoost recall score is: {xgb_clf_final_recall}\")\n",
    "print(f\"The best Random Forest recall score is: {rf_recall}\")"
   ]
  },
  {
   "cell_type": "markdown",
   "metadata": {},
   "source": [
    "## Are the XGBoost and Random Forest Predictions the same"
   ]
  },
  {
   "cell_type": "code",
   "execution_count": 151,
   "metadata": {
    "ExecuteTime": {
     "end_time": "2020-09-08T23:55:15.384889Z",
     "start_time": "2020-09-08T23:55:15.379321Z"
    }
   },
   "outputs": [
    {
     "data": {
      "text/plain": [
       "True"
      ]
     },
     "execution_count": 151,
     "metadata": {},
     "output_type": "execute_result"
    }
   ],
   "source": [
    "# did they all miss the same instances? Yes\n",
    "np.array_equal(xgb_clf_final_predictions, rf_pred)"
   ]
  },
  {
   "cell_type": "markdown",
   "metadata": {},
   "source": [
    "# Conclusions "
   ]
  },
  {
   "cell_type": "markdown",
   "metadata": {},
   "source": [
    "This data set presented easily viewable characteristics of a (hypothetical) sample of mushrooms in the Agaricus and Lepoita families. Using an XGBoost model and a Random Forest model, I am able to determine with 99.7% accuracy whether a mushroom is poisonous. Since both models mispredicted the same 3 mushroom samples, it's possible that these were mislabelled in some capacity. According to the XGBoost model, the most important feature is a green stalk color above the ring. Similarly, the next two most important features involved the stalk color above the ring (being 2: white or 3: orange). "
   ]
  }
 ],
 "metadata": {
  "kernelspec": {
   "display_name": "Python 3",
   "language": "python",
   "name": "python3"
  },
  "language_info": {
   "codemirror_mode": {
    "name": "ipython",
    "version": 3
   },
   "file_extension": ".py",
   "mimetype": "text/x-python",
   "name": "python",
   "nbconvert_exporter": "python",
   "pygments_lexer": "ipython3",
   "version": "3.6.9"
  },
  "toc": {
   "base_numbering": 1,
   "nav_menu": {},
   "number_sections": true,
   "sideBar": true,
   "skip_h1_title": false,
   "title_cell": "Table of Contents",
   "title_sidebar": "Contents",
   "toc_cell": false,
   "toc_position": {
    "height": "calc(100% - 180px)",
    "left": "10px",
    "top": "150px",
    "width": "298px"
   },
   "toc_section_display": true,
   "toc_window_display": true
  },
  "varInspector": {
   "cols": {
    "lenName": 16,
    "lenType": 16,
    "lenVar": 40
   },
   "kernels_config": {
    "python": {
     "delete_cmd_postfix": "",
     "delete_cmd_prefix": "del ",
     "library": "var_list.py",
     "varRefreshCmd": "print(var_dic_list())"
    },
    "r": {
     "delete_cmd_postfix": ") ",
     "delete_cmd_prefix": "rm(",
     "library": "var_list.r",
     "varRefreshCmd": "cat(var_dic_list()) "
    }
   },
   "position": {
    "height": "830px",
    "left": "1627px",
    "right": "20px",
    "top": "120px",
    "width": "274px"
   },
   "types_to_exclude": [
    "module",
    "function",
    "builtin_function_or_method",
    "instance",
    "_Feature"
   ],
   "window_display": false
  }
 },
 "nbformat": 4,
 "nbformat_minor": 2
}
